{
  "nbformat": 4,
  "nbformat_minor": 0,
  "metadata": {
    "colab": {
      "provenance": [],
      "authorship_tag": "ABX9TyOnMhR5DblmuPBDZVLhPzxY",
      "include_colab_link": true
    },
    "kernelspec": {
      "name": "python3",
      "display_name": "Python 3"
    },
    "language_info": {
      "name": "python"
    }
  },
  "cells": [
    {
      "cell_type": "markdown",
      "metadata": {
        "id": "view-in-github",
        "colab_type": "text"
      },
      "source": [
        "<a href=\"https://colab.research.google.com/github/pjcarney/PyTorch/blob/main/Autograd_Sin.ipynb\" target=\"_parent\"><img src=\"https://colab.research.google.com/assets/colab-badge.svg\" alt=\"Open In Colab\"/></a>"
      ]
    },
    {
      "cell_type": "code",
      "execution_count": null,
      "metadata": {
        "colab": {
          "base_uri": "https://localhost:8080/",
          "height": 1000
        },
        "id": "_sFMesUfMfcA",
        "outputId": "116c5529-8e66-477f-b867-bd58ed255d6d"
      },
      "outputs": [
        {
          "output_type": "stream",
          "name": "stdout",
          "text": [
            "tensor(335.9428)\n",
            "tensor(-18.2890)\n",
            "tensor(-11.8562)\n",
            "tensor(-7.6860)\n",
            "tensor(-4.9826)\n",
            "tensor(-3.2301)\n",
            "tensor(-2.0939)\n",
            "tensor(-1.3574)\n",
            "tensor(-0.8800)\n",
            "tensor(-0.5705)\n",
            "tensor(-0.3698)\n",
            "tensor(-0.2397)\n",
            "tensor(-0.1554)\n",
            "tensor(-0.1007)\n",
            "tensor(-0.0653)\n",
            "tensor(-0.0423)\n",
            "tensor(-0.0275)\n",
            "tensor(-0.0178)\n",
            "tensor(-0.0115)\n",
            "tensor(-0.0075)\n",
            "tensor(-0.0048)\n",
            "tensor(-0.0031)\n",
            "tensor(-0.0020)\n",
            "tensor(-0.0013)\n",
            "tensor(-0.0009)\n",
            "tensor(-0.0006)\n",
            "tensor(-0.0004)\n",
            "tensor(-0.0002)\n",
            "tensor(-0.0002)\n",
            "tensor(-9.8884e-05)\n",
            "tensor(-6.2391e-05)\n",
            "tensor(-4.1962e-05)\n",
            "tensor(-2.5541e-05)\n",
            "tensor(-1.6332e-05)\n",
            "tensor(-1.1951e-05)\n",
            "tensor(-5.8413e-06)\n",
            "tensor(-3.8445e-06)\n",
            "tensor(-5.0962e-06)\n",
            "tensor(-1.6689e-06)\n",
            "tensor(-1.1921e-07)\n",
            "tensor(-5.8115e-07)\n",
            "tensor(-4.7684e-07)\n",
            "tensor(-4.7684e-07)\n",
            "tensor(3.5763e-07)\n",
            "tensor(-1.1921e-07)\n",
            "tensor(3.7253e-07)\n",
            "tensor(-1.0431e-07)\n",
            "tensor(3.7253e-07)\n",
            "tensor(-1.0431e-07)\n",
            "tensor(3.7253e-07)\n"
          ]
        },
        {
          "output_type": "execute_result",
          "data": {
            "text/plain": [
              "[<matplotlib.lines.Line2D at 0x7d0f20af7dc0>]"
            ]
          },
          "metadata": {},
          "execution_count": 6
        },
        {
          "output_type": "display_data",
          "data": {
            "text/plain": [
              "<Figure size 640x480 with 1 Axes>"
            ],
            "image/png": "[encoded data removed]"
          },
          "metadata": {}
        }
      ],
      "source": [
        "import torch\n",
        "import math\n",
        "import matplotlib.pyplot as plt\n",
        "\n",
        "dtype = torch.float\n",
        "device = torch.device('cpu')\n",
        "\n",
        "x = torch.linspace(-math.pi, math.pi, 50, device=device)\n",
        "y = torch.sin(x)\n",
        "\n",
        "plt.plot(x, y, 'bo')\n",
        "\n",
        "# Randomly initialize the weights\n",
        "a = torch.randn((), device=device, requires_grad=True)\n",
        "b = torch.randn((), device=device, requires_grad=True)\n",
        "c = torch.randn((), device=device, requires_grad=True)\n",
        "d = torch.randn((), device=device, requires_grad=True)\n",
        "\n",
        "lr = 1e-4\n",
        "\n",
        "for t in range(5000):\n",
        "\n",
        "  # Forward pass, calculate the predicted value\n",
        "  y_pred = a + b * x + c * x ** 2 + d * x ** 3\n",
        "\n",
        "  # Compute the loss, item converts the tensor to a python number\n",
        "  loss = (y_pred - y).pow(2).sum()\n",
        "\n",
        "  #if t % 100 == 0:\n",
        "  # print(loss)\n",
        "\n",
        "  # Backprop the compute the gradients of the weights.\n",
        "  #grad_y_pred = 2.0 * (y_pred - y)\n",
        "\n",
        "  #grad_a = grad_y_pred.sum()\n",
        "  #grad_b = (x * grad_y_pred).sum()\n",
        "  #grad_c = (x ** 2 * grad_y_pred).sum()\n",
        "  #grad_d = (x ** 3 * grad_y_pred).sum()\n",
        "\n",
        "  # Compute the gradients of the weights.\n",
        "  loss.backward()\n",
        "\n",
        "  # Update the weights\n",
        "\n",
        "  #a -= lr * grad_a\n",
        "  #b -= lr * grad_b\n",
        "  #c -= lr * grad_c\n",
        "  #d -= lr * grad_d\n",
        "\n",
        "  if t % 100 == 0:\n",
        "    print(a.grad)\n",
        "\n",
        "  with torch.no_grad():\n",
        "    a -= lr * a.grad\n",
        "    b -= lr * b.grad\n",
        "    c -= lr * c.grad\n",
        "    d -= lr * d.grad\n",
        "\n",
        "  # Zero out the gradients after updating the weights\n",
        "  a.grad = None\n",
        "  b.grad = None\n",
        "  c.grad = None\n",
        "  d.grad = None\n",
        "\n",
        "plt.plot(x.numpy(), y_pred.detach().numpy(), 'ro')\n"
      ]
    }
  ]
}